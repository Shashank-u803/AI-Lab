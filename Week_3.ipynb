{
  "nbformat": 4,
  "nbformat_minor": 0,
  "metadata": {
    "colab": {
      "provenance": [],
      "authorship_tag": "ABX9TyM+z4+s2dKCuEr0R6MYmfUC",
      "include_colab_link": true
    },
    "kernelspec": {
      "name": "python3",
      "display_name": "Python 3"
    },
    "language_info": {
      "name": "python"
    }
  },
  "cells": [
    {
      "cell_type": "markdown",
      "metadata": {
        "id": "view-in-github",
        "colab_type": "text"
      },
      "source": [
        "<a href=\"https://colab.research.google.com/github/Shashank-u803/AI-Lab/blob/main/Week_3.ipynb\" target=\"_parent\"><img src=\"https://colab.research.google.com/assets/colab-badge.svg\" alt=\"Open In Colab\"/></a>"
      ]
    },
    {
      "cell_type": "markdown",
      "source": [],
      "metadata": {
        "id": "Q0O6mzIQraz5"
      }
    },
    {
      "cell_type": "markdown",
      "source": [
        "WEEK 3: 8 Puzzle using BFS approach"
      ],
      "metadata": {
        "id": "F5cv5onxrdBY"
      }
    },
    {
      "cell_type": "code",
      "source": [
        "from collections import deque\n",
        "\n",
        "# Helper to print board in 3x3 format\n",
        "def print_board(state):\n",
        "    for i in range(0, 9, 3):\n",
        "        print(state[i:i+3])\n",
        "    print()\n",
        "\n",
        "# Generate possible moves\n",
        "def get_neighbors(state):\n",
        "    neighbors = []\n",
        "    idx = state.index(0)  # blank space\n",
        "    row, col = divmod(idx, 3)\n",
        "    moves = []\n",
        "    if row > 0: moves.append((-1, 0, 'Up'))\n",
        "    if row < 2: moves.append((1, 0, 'Down'))\n",
        "    if col > 0: moves.append((0, -1, 'Left'))\n",
        "    if col < 2: moves.append((0, 1, 'Right'))\n",
        "\n",
        "    for dr, dc, action in moves:\n",
        "        new_row, new_col = row + dr, col + dc\n",
        "        new_idx = new_row * 3 + new_col\n",
        "        new_state = list(state)\n",
        "        new_state[idx], new_state[new_idx] = new_state[new_idx], new_state[idx]\n",
        "        neighbors.append((tuple(new_state), action))\n",
        "    return neighbors\n",
        "\n",
        "# BFS Search\n",
        "def solve_puzzle(start, goal):\n",
        "    queue = deque([(start, [])])\n",
        "    explored = set()\n",
        "\n",
        "    while queue:\n",
        "        state, path = queue.popleft()\n",
        "\n",
        "        if state in explored:\n",
        "            continue\n",
        "        explored.add(state)\n",
        "\n",
        "        if state == goal:\n",
        "            return path\n",
        "\n",
        "        for neighbor, action in get_neighbors(state):\n",
        "            if neighbor not in explored:\n",
        "                queue.append((neighbor, path + [(action, neighbor)]))\n",
        "    return None\n",
        "\n",
        "if __name__ == \"__main__\":\n",
        "    print(\"Enter the initial state (0 for blank, space-separated, 9 numbers):\")\n",
        "    start = tuple(map(int, input().split()))\n",
        "\n",
        "    print(\"Enter the goal state (0 for blank, space-separated, 9 numbers):\")\n",
        "    goal = tuple(map(int, input().split()))\n",
        "\n",
        "    print(\"\\nSolving puzzle with BFS...\\n\")\n",
        "    solution = solve_puzzle(start, goal)\n",
        "\n",
        "    if solution:\n",
        "        print(\"Optimal solution found using BFS!\\n\")\n",
        "        print(\"Total steps:\", len(solution))\n",
        "        current = start\n",
        "        print(\"Initial State:\")\n",
        "        print_board(current)\n",
        "        for step, state in solution:\n",
        "            print(\"Move:\", step)\n",
        "            print_board(state)\n",
        "    else:\n",
        "        print(\"No solution exists for this puzzle.\")\n"
      ],
      "metadata": {
        "colab": {
          "base_uri": "https://localhost:8080/"
        },
        "id": "YnAErzwhrh3A",
        "outputId": "addc5391-9e13-4d8b-fa86-4e61fe4dbc01"
      },
      "execution_count": 1,
      "outputs": [
        {
          "output_type": "stream",
          "name": "stdout",
          "text": [
            "Enter the initial state (0 for blank, space-separated, 9 numbers):\n",
            "2 8 3 1 6 4 7 0 5\n",
            "Enter the goal state (0 for blank, space-separated, 9 numbers):\n",
            "1 2 3 8 0 4 7 6 5\n",
            "\n",
            "Solving puzzle with BFS...\n",
            "\n",
            "Optimal solution found using BFS!\n",
            "\n",
            "Total steps: 5\n",
            "Initial State:\n",
            "(2, 8, 3)\n",
            "(1, 6, 4)\n",
            "(7, 0, 5)\n",
            "\n",
            "Move: Up\n",
            "(2, 8, 3)\n",
            "(1, 0, 4)\n",
            "(7, 6, 5)\n",
            "\n",
            "Move: Up\n",
            "(2, 0, 3)\n",
            "(1, 8, 4)\n",
            "(7, 6, 5)\n",
            "\n",
            "Move: Left\n",
            "(0, 2, 3)\n",
            "(1, 8, 4)\n",
            "(7, 6, 5)\n",
            "\n",
            "Move: Down\n",
            "(1, 2, 3)\n",
            "(0, 8, 4)\n",
            "(7, 6, 5)\n",
            "\n",
            "Move: Right\n",
            "(1, 2, 3)\n",
            "(8, 0, 4)\n",
            "(7, 6, 5)\n",
            "\n"
          ]
        }
      ]
    }
  ]
}