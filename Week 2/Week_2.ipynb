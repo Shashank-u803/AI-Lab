{
  "nbformat": 4,
  "nbformat_minor": 0,
  "metadata": {
    "colab": {
      "provenance": [],
      "authorship_tag": "ABX9TyNabUnegtFtbTV6DGE9lQBP",
      "include_colab_link": true
    },
    "kernelspec": {
      "name": "python3",
      "display_name": "Python 3"
    },
    "language_info": {
      "name": "python"
    }
  },
  "cells": [
    {
      "cell_type": "markdown",
      "metadata": {
        "id": "view-in-github",
        "colab_type": "text"
      },
      "source": [
        "<a href=\"https://colab.research.google.com/github/Shashank-u803/AI-Lab/blob/main/Week%202/Week_2.ipynb\" target=\"_parent\"><img src=\"https://colab.research.google.com/assets/colab-badge.svg\" alt=\"Open In Colab\"/></a>"
      ]
    },
    {
      "cell_type": "code",
      "execution_count": 1,
      "metadata": {
        "colab": {
          "base_uri": "https://localhost:8080/"
        },
        "id": "ykuV3cnavKlc",
        "outputId": "74ac7748-2179-4a80-cc72-5bc846e566d7"
      },
      "outputs": [
        {
          "output_type": "stream",
          "name": "stdout",
          "text": [
            "Enter -1 to act in Room A, 1 to act in Room B: -1 \n",
            "Enter 'c' to clean, 'm' to move without cleaning: c\n",
            "Cleaned room A\n",
            "Enter -1 to act in Room A, 1 to act in Room B: 1\n",
            "Enter 'c' to clean, 'm' to move without cleaning: m\n",
            "Moved vacuum from A to B\n",
            "Enter -1 to act in Room A, 1 to act in Room B: 1\n",
            "Enter 'c' to clean, 'm' to move without cleaning: c\n",
            "Cleaned room B\n",
            "All rooms are clean. Exiting.\n",
            "Total cost: 2\n"
          ]
        }
      ],
      "source": [
        "def is_clean(status):\n",
        "  return status[room_a] and status[room_b]\n",
        "\n",
        "\n",
        "def simulate(state, choice, status, cost, do_clean=True):\n",
        "    if is_clean(status):\n",
        "        print(\"All rooms are clean\")\n",
        "        return cost\n",
        "\n",
        "    if choice != 1 and choice != -1:\n",
        "        print(\"Invalid choice\")\n",
        "        return cost\n",
        "\n",
        "    # Vacuum in room A\n",
        "    if state[0][0]:\n",
        "        if choice == -1:\n",
        "            if do_clean and not state[0][1]:\n",
        "                state[0][1] = True\n",
        "                status[room_a] = True\n",
        "                print(\"Cleaned room A\")\n",
        "                cost += 1  # Cost of cleaning\n",
        "            else:\n",
        "                print(\"No cleaning in room A\")\n",
        "        elif choice == 1:\n",
        "          state[0][0] = False\n",
        "          state[1][0] = True\n",
        "          print(\"Moved vacuum from A to B\")\n",
        "        else:\n",
        "            print(\"Cannot move from A to B\")\n",
        "\n",
        "    # Vacuum in room B\n",
        "    elif state[1][0]:\n",
        "        if choice == 1:\n",
        "            if do_clean and not state[1][1]:\n",
        "                state[1][1] = True\n",
        "                status[room_b] = True\n",
        "                print(\"Cleaned room B\")\n",
        "                cost += 1  # Cost of cleaning\n",
        "            else:\n",
        "                print(\"No cleaning in room B\")\n",
        "        elif choice == -1:\n",
        "            state[1][0] = False\n",
        "            state[0][0] = True\n",
        "            print(\"Moved vacuum from B to A\")\n",
        "        else:\n",
        "            print(\"Cannot move from B to A\")\n",
        "    else:\n",
        "        print(\"Vacuum is not in any room!\")\n",
        "\n",
        "    return cost\n",
        "\n",
        "\n",
        "if __name__ == \"__main__\":\n",
        "    room_a = 'A'\n",
        "    room_b = 'B'\n",
        "    state = [[True, False], [False, False]]\n",
        "    status = {room_a:False, room_b:False}\n",
        "    total_cost = 0  # Initialize total cost\n",
        "\n",
        "    while True:\n",
        "      if is_clean(status):\n",
        "        print(\"All rooms are clean. Exiting.\")\n",
        "        print(f\"Total cost: {total_cost}\") # Display total cost\n",
        "        break\n",
        "\n",
        "      choice = int(input(\"Enter -1 to act in Room A, 1 to act in Room B: \"))\n",
        "      action = input(\"Enter 'c' to clean, 'm' to move without cleaning: \").lower()\n",
        "\n",
        "      if action == 'c':\n",
        "          total_cost = simulate(state, choice, status, total_cost)\n",
        "      elif action == 'm':\n",
        "          total_cost = simulate(state, choice, status, total_cost, False)\n",
        "      else:\n",
        "          print(\"Invalid action choice\")"
      ]
    }
  ]
}